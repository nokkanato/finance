{
 "cells": [
  {
   "cell_type": "markdown",
   "metadata": {},
   "source": [
    "## Using NumPy Financial \n"
   ]
  },
  {
   "cell_type": "code",
   "execution_count": null,
   "metadata": {},
   "outputs": [],
   "source": []
  },
  {
   "cell_type": "code",
   "execution_count": 1,
   "metadata": {},
   "outputs": [],
   "source": [
    "## Using NumPy Financial \n",
    "import numpy as np\n",
    "import numpy_financial as npf\n"
   ]
  },
  {
   "cell_type": "code",
   "execution_count": 2,
   "metadata": {},
   "outputs": [
    {
     "data": {
      "text/plain": [
       "['fv', 'ipmt', 'irr', 'mirr', 'nper', 'npv', 'pmt', 'ppmt', 'pv', 'rate']"
      ]
     },
     "execution_count": 2,
     "metadata": {},
     "output_type": "execute_result"
    }
   ],
   "source": [
    "[function for function in dir(npf) if not function.startswith('_')]\n"
   ]
  },
  {
   "cell_type": "markdown",
   "metadata": {},
   "source": [
    "### Ask to see parameter info using help()"
   ]
  },
  {
   "cell_type": "code",
   "execution_count": 4,
   "metadata": {},
   "outputs": [
    {
     "name": "stdout",
     "output_type": "stream",
     "text": [
      "Help on function pmt in module numpy_financial._financial:\n",
      "\n",
      "pmt(rate, nper, pv, fv=0, when='end')\n",
      "    Compute the payment against loan principal plus interest.\n",
      "    \n",
      "    Given:\n",
      "     * a present value, `pv` (e.g., an amount borrowed)\n",
      "     * a future value, `fv` (e.g., 0)\n",
      "     * an interest `rate` compounded once per period, of which\n",
      "       there are\n",
      "     * `nper` total\n",
      "     * and (optional) specification of whether payment is made\n",
      "       at the beginning (`when` = {'begin', 1}) or the end\n",
      "       (`when` = {'end', 0}) of each period\n",
      "    \n",
      "    Return:\n",
      "       the (fixed) periodic payment.\n",
      "    \n",
      "    Parameters\n",
      "    ----------\n",
      "    rate : array_like\n",
      "        Rate of interest (per period)\n",
      "    nper : array_like\n",
      "        Number of compounding periods\n",
      "    pv : array_like\n",
      "        Present value\n",
      "    fv : array_like,  optional\n",
      "        Future value (default = 0)\n",
      "    when : {{'begin', 1}, {'end', 0}}, {string, int}\n",
      "        When payments are due ('begin' (1) or 'end' (0))\n",
      "    \n",
      "    Returns\n",
      "    -------\n",
      "    out : ndarray\n",
      "        Payment against loan plus interest.  If all input is scalar, returns a\n",
      "        scalar float.  If any input is array_like, returns payment for each\n",
      "        input element. If multiple inputs are array_like, they all must have\n",
      "        the same shape.\n",
      "    \n",
      "    Notes\n",
      "    -----\n",
      "    The payment is computed by solving the equation::\n",
      "    \n",
      "     fv +\n",
      "     pv*(1 + rate)**nper +\n",
      "     pmt*(1 + rate*when)/rate*((1 + rate)**nper - 1) == 0\n",
      "    \n",
      "    or, when ``rate == 0``::\n",
      "    \n",
      "      fv + pv + pmt * nper == 0\n",
      "    \n",
      "    for ``pmt``.\n",
      "    \n",
      "    Note that computing a monthly mortgage payment is only\n",
      "    one use for this function.  For example, pmt returns the\n",
      "    periodic deposit one must make to achieve a specified\n",
      "    future balance given an initial deposit, a fixed,\n",
      "    periodically compounded interest rate, and the total\n",
      "    number of periods.\n",
      "    \n",
      "    References\n",
      "    ----------\n",
      "    .. [WRW] Wheeler, D. A., E. Rathke, and R. Weir (Eds.) (2009, May).\n",
      "       Open Document Format for Office Applications (OpenDocument)v1.2,\n",
      "       Part 2: Recalculated Formula (OpenFormula) Format - Annotated Version,\n",
      "       Pre-Draft 12. Organization for the Advancement of Structured Information\n",
      "       Standards (OASIS). Billerica, MA, USA. [ODT Document].\n",
      "       Available:\n",
      "       http://www.oasis-open.org/committees/documents.php\n",
      "       ?wg_abbrev=office-formulaOpenDocument-formula-20090508.odt\n",
      "    \n",
      "    Examples\n",
      "    --------\n",
      "    >>> import numpy_financial as npf\n",
      "    \n",
      "    What is the monthly payment needed to pay off a $200,000 loan in 15\n",
      "    years at an annual interest rate of 7.5%?\n",
      "    \n",
      "    >>> npf.pmt(0.075/12, 12*15, 200000)\n",
      "    -1854.0247200054619\n",
      "    \n",
      "    In order to pay-off (i.e., have a future-value of 0) the $200,000 obtained\n",
      "    today, a monthly payment of $1,854.02 would be required.  Note that this\n",
      "    example illustrates usage of `fv` having a default value of 0.\n",
      "\n"
     ]
    }
   ],
   "source": [
    "help(npf.pmt)"
   ]
  },
  {
   "cell_type": "markdown",
   "metadata": {},
   "source": [
    "# To sum up parameter\n",
    "- nper is # of terms/periods untill the deal/loan/investment reach maturity\n",
    "- fv is the future value \n",
    "- pv is the present value/ loan amount \n",
    "- rate is the interest rate (APR) per period of the loan\n",
    "- pmt is the payment per period usually monthly\n"
   ]
  },
  {
   "cell_type": "markdown",
   "metadata": {},
   "source": [
    "# Sample question PMT()\n",
    "loan amount = 15000 <br>\n",
    "interest rate = 0.065<br>\n",
    "years = 4\n",
    "1. Compute the yearly payment against loan principal plus interest.\n",
    "2. Compute the monthly payment against loan principal plus interest.\n",
    "3. Compute the quaterly payment against loan principal plus interest."
   ]
  },
  {
   "cell_type": "code",
   "execution_count": 15,
   "metadata": {},
   "outputs": [
    {
     "name": "stdout",
     "output_type": "stream",
     "text": [
      "Payment per year is 4378.541106565527\n",
      "Payment per quarter is 1072.2047239489502\n",
      "Payment per month is 355.7242939334679\n"
     ]
    }
   ],
   "source": [
    "loan_amount = 15000\n",
    "interest_rate = 0.065\n",
    "years = 4\n",
    "monthly_interest_rate = interest_rate/12\n",
    "monthly_numbers_of_payments = years*12\n",
    "quarterly_interest_rate = interest_rate/4\n",
    "quarterly_numbers_of_payments = years*4\n",
    "\n",
    "\n",
    "pmt_yearly = npf.pmt(interest_rate, years, loan_amount)\n",
    "pmt_monthly = npf.pmt(monthly_interest_rate, monthly_numbers_of_payments, loan_amount)\n",
    "pmt_quarterly = npf.pmt(quarterly_interest_rate, quarterly_numbers_of_payments, loan_amount)\n",
    "\n",
    "print(\"Payment per year is\", -pmt_yearly)\n",
    "print(\"Payment per quarter is\", -pmt_quarterly)\n",
    "print(\"Payment per month is\", -pmt_monthly)\n"
   ]
  },
  {
   "cell_type": "markdown",
   "metadata": {},
   "source": [
    "# Sample question PV()\n",
    "Annual rate = 4.75% <br>\n",
    "Monthly payment = $ 2,500<br>\n",
    "years = 25\n",
    "1. Compute the yearly Loan Amount.\n",
    "2. Compute the quaterly Loan Amount.\n",
    "3. Compute the monthly Loan Amount."
   ]
  },
  {
   "cell_type": "code",
   "execution_count": 19,
   "metadata": {},
   "outputs": [
    {
     "name": "stdout",
     "output_type": "stream",
     "text": [
      "Annualy Loan amount is 433619.2167589135\n",
      "Quarterly Loan amount is 437606.05783453595\n",
      "Monthly Loan amount is 438506.20404609735\n"
     ]
    }
   ],
   "source": [
    "annual_rate = 0.0475\n",
    "monthly_payment = 2500\n",
    "years = 25\n",
    "\n",
    "annual_loan_amount = npf.pv(annual_rate, years, -monthly_payment*12)\n",
    "monthly_loan_amount = npf.pv(annual_rate/12, years*12, -monthly_payment)\n",
    "quarterly_loan_amount = npf.pv(annual_rate/4, years*4, -monthly_payment*3)\n",
    "\n",
    "\n",
    "print(\"Annualy Loan amount is\", annual_loan_amount)\n",
    "print(\"Quarterly Loan amount is\", quarterly_loan_amount)\n",
    "print(\"Monthly Loan amount is\", monthly_loan_amount)"
   ]
  },
  {
   "cell_type": "markdown",
   "metadata": {},
   "source": [
    "# Sample question FV()\n",
    "Loan Amount = 10000\n",
    "Annual rate = 6% <br>\n",
    "Monthly payment = $ 500<br>\n",
    "years = 5\n",
    "1. Compute the Future value where you invest monthly after initial paymeny compounded yearly\n",
    "2. Compute the Future value where you invest pay only initial paymeny (no monthly payment) compounded yearly\n",
    "\n",
    "3. Compute the Future value where you invest monthly after initial paymeny compounded monthly\n",
    "4. Compute the Future value where you invest pay only initial paymeny (no monthly payment) compounded monthly"
   ]
  },
  {
   "cell_type": "code",
   "execution_count": 25,
   "metadata": {},
   "outputs": [
    {
     "name": "stdout",
     "output_type": "stream",
     "text": [
      "Future value with payment is 47204.81353600004\n",
      "Future value without payment is 13382.255776000004\n",
      "Future value coumpouned monthly with payment is 48373.51678042383\n",
      "Future value coumpouned monthly without payment is 13488.501525493075\n"
     ]
    }
   ],
   "source": [
    "loan_amount = 10000\n",
    "monthly_payment = 500\n",
    "years = 5\n",
    "annual_rate = 0.06\n",
    "fv_pmt_yearly = npf.fv(annual_rate, years, -monthly_payment*12, -loan_amount)\n",
    "fv_no_pmt_yearly = npf.fv(annual_rate, years, 0, -loan_amount)\n",
    "\n",
    "fv_compound_monthly_pmt = npf.fv(annual_rate/12, years*12, -monthly_payment, -loan_amount)\n",
    "fv_compound_monthly_no_pmt = npf.fv(annual_rate/12, years*12, 0, -loan_amount)\n",
    "\n",
    "print(\"Future value with payment is\", fv_pmt_yearly)\n",
    "print(\"Future value without payment is\", fv_no_pmt_yearly)\n",
    "print(\"Future value coumpouned monthly with payment is\", fv_compound_monthly_pmt)\n",
    "print(\"Future value coumpouned monthly without payment is\", fv_compound_monthly_no_pmt)"
   ]
  },
  {
   "cell_type": "markdown",
   "metadata": {},
   "source": [
    "# Sample question nper()\n",
    "Loan Amount = 10000 <br>\n",
    "Annual rate = 6% <br>\n",
    "Monthly payment = $ 500<br>\n",
    "Future Value = 100000\n",
    "1. Compute the number of years left until reaching Future value\n"
   ]
  },
  {
   "cell_type": "code",
   "execution_count": 36,
   "metadata": {},
   "outputs": [
    {
     "name": "stdout",
     "output_type": "stream",
     "text": [
      "Number of periods is 6.631657404824597\n"
     ]
    }
   ],
   "source": [
    "loan_amount = 8000\n",
    "monthly_payment = 250\n",
    "annual_rate = 0.07\n",
    "future_value = 10000\n",
    "nper = npf.nper(annual_rate/12, -monthly_payment, -loan_amount, future_value)\n",
    "\n",
    "\n",
    "print(\"Number of periods is\", nper)"
   ]
  },
  {
   "cell_type": "code",
   "execution_count": null,
   "metadata": {},
   "outputs": [],
   "source": []
  }
 ],
 "metadata": {
  "kernelspec": {
   "display_name": "Python 3",
   "language": "python",
   "name": "python3"
  },
  "language_info": {
   "codemirror_mode": {
    "name": "ipython",
    "version": 3
   },
   "file_extension": ".py",
   "mimetype": "text/x-python",
   "name": "python",
   "nbconvert_exporter": "python",
   "pygments_lexer": "ipython3",
   "version": "3.10.13"
  }
 },
 "nbformat": 4,
 "nbformat_minor": 2
}

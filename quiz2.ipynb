{
 "cells": [
  {
   "cell_type": "markdown",
   "metadata": {},
   "source": [
    "\n",
    "### 3. Stock A, Stock B, and Stock C have the following expected returns, standard deviations, and covariance matrix as follows. Given that the risk-free rate of return is 2%, \n",
    "\n",
    "\n",
    "#### 3.3 If your target return is 10%, discuss whether and why you should just invest in Stock A or in the efficient portfolio that you found above. (1 point)"
   ]
  },
  {
   "cell_type": "markdown",
   "metadata": {},
   "source": [
    "#### 3.1 What is the expected return and standard deviation of the optimal portfolio? (1 point)"
   ]
  },
  {
   "cell_type": "code",
   "execution_count": 2,
   "metadata": {},
   "outputs": [],
   "source": [
    "from scipy.optimize import minimize\n",
    "import numpy as np\n",
    "# The given expected returns and standard deviations\n",
    "expected_returns = np.array([10, 15, 20])  # Expected returns for A, B, and C\n",
    "std_devs = np.array([25, 35, 45])  # Standard deviations for A, B, and C\n",
    "# The risk-free rate\n",
    "risk_free_rate = 2\n",
    "\n",
    "# The covariance matrix\n",
    "cov_matrix = np.array([\n",
    "    [625, 0, -337.5],\n",
    "    [0, 1225, 866.25],\n",
    "    [-337.5, 866.25, 2025]\n",
    "])\n",
    "\n",
    "# Constraints: sum of weights equals 1\n",
    "constraints = ({'type': 'eq', 'fun': lambda x: np.sum(x) - 1})\n",
    "\n",
    "# Initial guess for the weights (evenly distributed)\n",
    "initial_weights = np.array([1/3, 1/3, 1/3])\n",
    "\n",
    "# Bounds for weights: weights can range from 0 to 1\n",
    "bounds = tuple((0, 1) for asset in range(len(expected_returns)))\n",
    "\n",
    "\n"
   ]
  },
  {
   "cell_type": "code",
   "execution_count": 3,
   "metadata": {},
   "outputs": [
    {
     "data": {
      "text/plain": [
       "(array([0.57467633, 0.09493068, 0.33039299]),\n",
       " 13.778583301690421,\n",
       " 19.09640998929537)"
      ]
     },
     "execution_count": 3,
     "metadata": {},
     "output_type": "execute_result"
    }
   ],
   "source": [
    "# Define the objective function (negative Sharpe ratio)\n",
    "def objective_function(weights, expected_returns, cov_matrix, risk_free_rate):\n",
    "    portfolio_return = np.sum(weights * expected_returns)\n",
    "    portfolio_volatility = np.sqrt(np.dot(weights.T, np.dot(cov_matrix, weights)))\n",
    "    sharpe_ratio = (portfolio_return - risk_free_rate) / portfolio_volatility\n",
    "    return -sharpe_ratio  # We will minimize this function, hence negative Sharpe ratio\n",
    "\n",
    "# Optimize the weights to find the optimal portfolio that maximizes the Sharpe ratio\n",
    "optimal_portfolio_result = minimize(\n",
    "    objective_function,\n",
    "    initial_weights,\n",
    "    args=(expected_returns, cov_matrix, risk_free_rate),\n",
    "    method='SLSQP',\n",
    "    bounds=bounds,\n",
    "    constraints=constraints\n",
    ")\n",
    "\n",
    "# The optimal weights\n",
    "optimal_weights = optimal_portfolio_result.x\n",
    "\n",
    "# Calculate the expected return and standard deviation of the optimal portfolio\n",
    "optimal_portfolio_return = np.sum(optimal_weights * expected_returns)\n",
    "optimal_portfolio_std_dev = np.sqrt(np.dot(optimal_weights.T, np.dot(cov_matrix, optimal_weights)))\n",
    "\n",
    "optimal_weights, optimal_portfolio_return, optimal_portfolio_std_dev"
   ]
  },
  {
   "cell_type": "markdown",
   "metadata": {},
   "source": [
    "#### 3.2 Please form an efficient portfolio with an expected return of 10%. What would be your investment allocation across Stock A, Stock B, Stock C, and/or the risk-free asset? (1 point)"
   ]
  },
  {
   "cell_type": "markdown",
   "metadata": {},
   "source": [
    "WA x E[RA] + WB x E[RB] + WC x E[RC] = E[R Portfolio]"
   ]
  },
  {
   "cell_type": "markdown",
   "metadata": {},
   "source": [
    "where WA + WB + WC = 1"
   ]
  },
  {
   "cell_type": "code",
   "execution_count": 5,
   "metadata": {},
   "outputs": [
    {
     "data": {
      "text/plain": [
       "(array([0.57467633, 0.09493068, 0.33039299]),\n",
       " 13.778583301690421,\n",
       " 19.09640998929537,\n",
       " 0.616795686115505)"
      ]
     },
     "execution_count": 5,
     "metadata": {},
     "output_type": "execute_result"
    }
   ],
   "source": [
    "# Define the target return\n",
    "target_return = 15  # 10%\n",
    "\n",
    "# Constraints: expected return to be 10% and sum of weights to be 1\n",
    "constraints = ({\n",
    "    'type': 'eq',\n",
    "    'fun': lambda weights: np.sum(weights) - 1\n",
    "}, {\n",
    "    'type': 'ineq',\n",
    "    'fun': lambda weights: np.sum(weights * expected_returns) - 0.02\n",
    "})\n",
    "\n",
    "\n",
    "# Bounds for weights: weights can range from 0 to 1\n",
    "bounds = tuple((0, 1) for _ in expected_returns)\n",
    "\n",
    "# Optimize the weights to find the ones that give the expected return of 10%\n",
    "result = minimize(\n",
    "    lambda weights: -np.sum(weights * expected_returns),  # We want to maximize returns, hence minimize the negative\n",
    "    initial_weights,\n",
    "    method='SLSQP',\n",
    "    bounds=bounds,\n",
    "    constraints=constraints\n",
    ")\n",
    "\n",
    "# Assuming the rest of your code is unchanged and placed above this snippet.\n",
    "\n",
    "# Calculate the optimal portfolio's Sharpe ratio using optimal weights\n",
    "optimal_portfolio_sharpe_ratio = (optimal_portfolio_return - risk_free_rate) / optimal_portfolio_std_dev\n",
    "\n",
    "# Returning the optimal weights, expected return, standard deviation, and Sharpe ratio of the optimal portfolio\n",
    "optimal_weights, optimal_portfolio_return, optimal_portfolio_std_dev, optimal_portfolio_sharpe_ratio\n",
    "\n"
   ]
  },
  {
   "cell_type": "markdown",
   "metadata": {},
   "source": []
  },
  {
   "cell_type": "code",
   "execution_count": 21,
   "metadata": {},
   "outputs": [
    {
     "data": {
      "text/plain": [
       "(array([1.00000000e+00, 7.69384556e-14, 0.00000000e+00]),\n",
       " 24.999999999999027,\n",
       " True)"
      ]
     },
     "execution_count": 21,
     "metadata": {},
     "output_type": "execute_result"
    }
   ],
   "source": []
  },
  {
   "cell_type": "code",
   "execution_count": null,
   "metadata": {},
   "outputs": [],
   "source": []
  }
 ],
 "metadata": {
  "kernelspec": {
   "display_name": "Python 3",
   "language": "python",
   "name": "python3"
  },
  "language_info": {
   "codemirror_mode": {
    "name": "ipython",
    "version": 3
   },
   "file_extension": ".py",
   "mimetype": "text/x-python",
   "name": "python",
   "nbconvert_exporter": "python",
   "pygments_lexer": "ipython3",
   "version": "3.10.13"
  }
 },
 "nbformat": 4,
 "nbformat_minor": 2
}

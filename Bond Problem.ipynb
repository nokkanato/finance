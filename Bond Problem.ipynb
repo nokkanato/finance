{
 "cells": [
  {
   "cell_type": "code",
   "execution_count": 1,
   "metadata": {},
   "outputs": [],
   "source": [
    "import yfinance as yf\n",
    "import pandas as pd\n",
    "import numpy as np\n",
    "import numpy_financial as npf"
   ]
  },
  {
   "cell_type": "markdown",
   "metadata": {},
   "source": [
    "# Bond value, interest rate change, and return \n",
    "You are interested in buying a bond with a par value of ​$ 1000​, a coupon rate of 7​% ​(paid annually), a maturity in  5 ​years, and a yield to maturity of 8​%.\n",
    "\n",
    "- What is the bond's market price <br>\n",
    "- Suppose you buy the bond​ today, hold it a​ year, just long enough to collect one ​$70 interest​ payment, and then sell it. When you sell​ it, the yield to maturity is still ​8%. What price do you receive when you​ sell?<br>\n",
    "- Counting both the change in price and the coupon payment that you​ received, what percentage return did you earn over the​ year?<br>\n",
    "- Assume instead that when you are ready to sell the​ bond's yield to maturity has dropped to ​7%. What price do you receive and what return do you earn for the​ year?"
   ]
  },
  {
   "cell_type": "code",
   "execution_count": 17,
   "metadata": {},
   "outputs": [
    {
     "name": "stdout",
     "output_type": "stream",
     "text": [
      "Bond Price 960.072899629219\n"
     ]
    }
   ],
   "source": [
    "coupon_rate = 0.07\n",
    "par_value = 1000\n",
    "coupon_par = par_value * coupon_rate\n",
    "year_to_maturity = 5\n",
    "yield_to_maturity = 0.08\n",
    "bond_price = npf.pv(rate=yield_to_maturity, nper=year_to_maturity, pmt=coupon_par, fv=par_value, when='end')\n",
    "print('Bond Price', -bond_price)"
   ]
  },
  {
   "cell_type": "code",
   "execution_count": 24,
   "metadata": {},
   "outputs": [
    {
     "name": "stdout",
     "output_type": "stream",
     "text": [
      "Bond Price 966.8787315995567\n"
     ]
    }
   ],
   "source": [
    "coupon_rate = 0.07\n",
    "par_value = 1000\n",
    "coupon_par = par_value * coupon_rate\n",
    "year_to_maturity = 4\n",
    "yield_to_maturity = 0.08\n",
    "bond_price = npf.pv(rate=yield_to_maturity, nper=year_to_maturity, pmt=coupon_par, fv=par_value, when='end')\n",
    "print('Bond Price', -bond_price)"
   ]
  },
  {
   "cell_type": "code",
   "execution_count": 25,
   "metadata": {},
   "outputs": [
    {
     "name": "stdout",
     "output_type": "stream",
     "text": [
      "Bond Price 1000.0\n"
     ]
    }
   ],
   "source": [
    "coupon_rate = 0.07\n",
    "par_value = 1000\n",
    "coupon_par = par_value * coupon_rate\n",
    "year_to_maturity = 4\n",
    "yield_to_maturity = 0.07\n",
    "bond_price = npf.pv(rate=yield_to_maturity, nper=year_to_maturity, pmt=coupon_par, fv=par_value, when='end')\n",
    "print('Bond Price', -bond_price)"
   ]
  },
  {
   "cell_type": "code",
   "execution_count": null,
   "metadata": {},
   "outputs": [],
   "source": []
  }
 ],
 "metadata": {
  "kernelspec": {
   "display_name": "Python 3",
   "language": "python",
   "name": "python3"
  },
  "language_info": {
   "codemirror_mode": {
    "name": "ipython",
    "version": 3
   },
   "file_extension": ".py",
   "mimetype": "text/x-python",
   "name": "python",
   "nbconvert_exporter": "python",
   "pygments_lexer": "ipython3",
   "version": "3.10.13"
  }
 },
 "nbformat": 4,
 "nbformat_minor": 2
}

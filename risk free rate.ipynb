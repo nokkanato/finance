{
 "cells": [
  {
   "cell_type": "code",
   "execution_count": 1,
   "metadata": {},
   "outputs": [],
   "source": [
    "import yfinance as yf\n",
    "import pandas as pd\n",
    "import numpy as np\n",
    "import numpy_financial as npf\n",
    "import matplotlib.pyplot as plt"
   ]
  },
  {
   "cell_type": "markdown",
   "metadata": {},
   "source": [
    "## US Treasury bill\n"
   ]
  },
  {
   "cell_type": "code",
   "execution_count": 10,
   "metadata": {},
   "outputs": [
    {
     "name": "stderr",
     "output_type": "stream",
     "text": [
      "[*********************100%%**********************]  1 of 1 completed"
     ]
    },
    {
     "name": "stdout",
     "output_type": "stream",
     "text": [
      "Average annualized yield for the past year: 5.22%\n",
      "Date\n",
      "2023-11-27    5.258\n",
      "2023-11-28    5.260\n",
      "2023-11-29    5.240\n",
      "2023-11-30    5.238\n",
      "2023-12-01    5.215\n",
      "Name: Adj Close, dtype: float64\n",
      "Date\n",
      "2024-02-20    0.014282\n",
      "2024-02-21    0.014342\n",
      "2024-02-22    0.014337\n",
      "2024-02-23    0.014356\n",
      "2024-02-26    0.014384\n",
      "Name: Adj Close, dtype: float64\n"
     ]
    },
    {
     "name": "stderr",
     "output_type": "stream",
     "text": [
      "\n"
     ]
    }
   ],
   "source": [
    "import yfinance as yf\n",
    "import pandas as pd\n",
    "import numpy as np\n",
    "\n",
    "# Download ^IRX data (13-week Treasury Bill yield)\n",
    "data = yf.download(\"^IRX\", period=\"3mo\")  # Fetch data for the last year\n",
    "\n",
    "# The data includes columns for Open, High, Low, Close, Adj Close, and Volume.\n",
    "# Since we're interested in the Adjusted Close (which represents the yield),\n",
    "# we'll focus on that.\n",
    "adj_close = data[\"Adj Close\"]\n",
    "\n",
    "# Note: The \"^IRX\" values are already annualized yields, so you don't need to\n",
    "# annualize them again. However, you can perform additional calculations or\n",
    "# manipulations as needed for your analysis.\n",
    "\n",
    "# For example, if you want to calculate the average yield over the period:\n",
    "average_yield = adj_close.mean()\n",
    "\n",
    "print(f\"Average annualized yield for the past year: {average_yield:.2f}%\")\n",
    "\n",
    "# If you need to convert the annualized yield to a daily yield as an example\n",
    "# of further manipulation (though remember, it's usually quoted annually):\n",
    "print(adj_close.head())\n",
    "daily_yield = adj_close / 365\n",
    "\n",
    "# Display the last few entries of the daily yield to verify\n",
    "print(daily_yield.tail())\n"
   ]
  },
  {
   "cell_type": "markdown",
   "metadata": {},
   "source": [
    "## Market Return\n"
   ]
  },
  {
   "cell_type": "code",
   "execution_count": 14,
   "metadata": {},
   "outputs": [
    {
     "name": "stderr",
     "output_type": "stream",
     "text": [
      "[*********************100%%**********************]  1 of 1 completed"
     ]
    },
    {
     "name": "stdout",
     "output_type": "stream",
     "text": [
      "            Market_Pct_Change  Cumulative_Market_Return\n",
      "Date                                                   \n",
      "2024-02-20          -0.006005                  0.249425\n",
      "2024-02-21           0.001264                  0.251004\n",
      "2024-02-22           0.021123                  0.277429\n",
      "2024-02-23           0.000348                  0.277874\n",
      "2024-02-26          -0.003787                  0.273035\n",
      "Total market return for the last 90 days: 27.30%\n"
     ]
    },
    {
     "name": "stderr",
     "output_type": "stream",
     "text": [
      "\n"
     ]
    }
   ],
   "source": [
    "import yfinance as yf\n",
    "import pandas as pd\n",
    "import numpy as np\n",
    "\n",
    "# Download S&P 500 data (^GSPC) for the last 90 days\n",
    "gspc_data = yf.download(\"^GSPC\", period=\"1y\")\n",
    "\n",
    "# Calculate simple percentage change for the S&P 500 (market return)\n",
    "gspc_data['Market_Pct_Change'] = gspc_data['Adj Close'].pct_change()\n",
    "\n",
    "# Calculate the cumulative return over the period\n",
    "gspc_data['Cumulative_Market_Return'] = (1 + gspc_data['Market_Pct_Change']).cumprod() - 1\n",
    "\n",
    "# Display the last few entries to verify\n",
    "print(gspc_data[['Market_Pct_Change', 'Cumulative_Market_Return']].tail())\n",
    "\n",
    "# Calculate the total market return over the last 90 days\n",
    "total_market_return = gspc_data['Cumulative_Market_Return'].iloc[-1]\n",
    "\n",
    "print(f\"Total market return for the last 90 days: {total_market_return * 100:.2f}%\")\n"
   ]
  },
  {
   "cell_type": "code",
   "execution_count": null,
   "metadata": {},
   "outputs": [],
   "source": []
  },
  {
   "cell_type": "code",
   "execution_count": null,
   "metadata": {},
   "outputs": [],
   "source": []
  }
 ],
 "metadata": {
  "kernelspec": {
   "display_name": "Python 3",
   "language": "python",
   "name": "python3"
  },
  "language_info": {
   "codemirror_mode": {
    "name": "ipython",
    "version": 3
   },
   "file_extension": ".py",
   "mimetype": "text/x-python",
   "name": "python",
   "nbconvert_exporter": "python",
   "pygments_lexer": "ipython3",
   "version": "3.10.13"
  }
 },
 "nbformat": 4,
 "nbformat_minor": 2
}
